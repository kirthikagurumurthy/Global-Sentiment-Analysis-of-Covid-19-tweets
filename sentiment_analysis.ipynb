{
 "cells": [
  {
   "cell_type": "code",
   "execution_count": 19,
   "metadata": {},
   "outputs": [],
   "source": [
    "import json\n",
    "import csv\n",
    "import tweepy\n",
    "import re\n",
    "import nltk\n",
    "from nltk.stem import WordNetLemmatizer\n",
    "import pandas as pd\n",
    "import GetOldTweets3 as got\n",
    "from nltk.corpus import stopwords\n",
    "stopwords = set(stopwords.words('english'))\n",
    "lemmatizer = WordNetLemmatizer()"
   ]
  },
  {
   "cell_type": "code",
   "execution_count": 20,
   "metadata": {
    "scrolled": true
   },
   "outputs": [
    {
     "name": "stdout",
     "output_type": "stream",
     "text": [
      "Jj52ijmLikNTLD3qRXSyFo2bW\n",
      "XQ3VyYt0LG5W4sotm4LfpvA99dd0KCuiD9tSZVf62Lsb02SSIJ\n",
      "1038621976934281216-y2s3U70cy3WlUWXjx4U2uUJbfaw6LD\n",
      "zthp70cGjzb7VVK7cfArUuYZz7OG5KxwgJ9SG2tixhl9s\n"
     ]
    }
   ],
   "source": [
    "consumer_key = input()\n",
    "consumer_secret = input()\n",
    "access_key = input()\n",
    "access_secret = input()"
   ]
  },
  {
   "cell_type": "code",
   "execution_count": null,
   "metadata": {},
   "outputs": [],
   "source": [
    "text_query = 'coronavirus'\n",
    "since_date = '2019-08-01'\n",
    "count = 15000\n",
    "# Creation of query object\n",
    "tweetCriteria = got.manager.TweetCriteria().setQuerySearch(text_query).setSince(since_date).setLang('en').setMaxTweets(count)\n",
    "# Creation of list that contains all tweets\n",
    "tw = got.manager.TweetManager.getTweets(tweetCriteria)\n",
    "# Creating list of chosen tweet data\n",
    "text_tweets = [[tweet.text] for tweet in tw]"
   ]
  },
  {
   "cell_type": "code",
   "execution_count": 4,
   "metadata": {},
   "outputs": [
    {
     "data": {
      "text/plain": [
       "18679"
      ]
     },
     "execution_count": 4,
     "metadata": {},
     "output_type": "execute_result"
    }
   ],
   "source": [
    "len(text_tweets)"
   ]
  },
  {
   "cell_type": "code",
   "execution_count": null,
   "metadata": {},
   "outputs": [],
   "source": [
    "text_query = 'covid19'\n",
    "since_date = '2019-08-01'\n",
    "count = 10000\n",
    "# Creation of query object\n",
    "tweetCriteria = got.manager.TweetCriteria().setQuerySearch(text_query).setSince(since_date).seLang('en').setMaxTweets(count)\n",
    "# Creation of list that contains all tweets\n",
    "tw2 = got.manager.TweetManager.getTweets(tweetCriteria)\n",
    "# Creating list of chosen tweet data\n",
    "text_tw = [[tweet.text] for tweet in tw2]"
   ]
  },
  {
   "cell_type": "code",
   "execution_count": 7,
   "metadata": {},
   "outputs": [
    {
     "data": {
      "text/plain": [
       "10815"
      ]
     },
     "execution_count": 7,
     "metadata": {},
     "output_type": "execute_result"
    }
   ],
   "source": [
    "len(text_tw)"
   ]
  },
  {
   "cell_type": "code",
   "execution_count": 8,
   "metadata": {},
   "outputs": [],
   "source": [
    "tweets_final = text_tweets + text_tw"
   ]
  },
  {
   "cell_type": "code",
   "execution_count": 10,
   "metadata": {},
   "outputs": [],
   "source": [
    "tweets_df = pd.DataFrame(tweets_final)"
   ]
  },
  {
   "cell_type": "code",
   "execution_count": 14,
   "metadata": {},
   "outputs": [],
   "source": [
    "tweets_df.columns = ['Tweet_text']"
   ]
  },
  {
   "cell_type": "code",
   "execution_count": 15,
   "metadata": {},
   "outputs": [
    {
     "data": {
      "text/html": [
       "<div>\n",
       "<style scoped>\n",
       "    .dataframe tbody tr th:only-of-type {\n",
       "        vertical-align: middle;\n",
       "    }\n",
       "\n",
       "    .dataframe tbody tr th {\n",
       "        vertical-align: top;\n",
       "    }\n",
       "\n",
       "    .dataframe thead th {\n",
       "        text-align: right;\n",
       "    }\n",
       "</style>\n",
       "<table border=\"1\" class=\"dataframe\">\n",
       "  <thead>\n",
       "    <tr style=\"text-align: right;\">\n",
       "      <th></th>\n",
       "      <th>Tweet_text</th>\n",
       "    </tr>\n",
       "  </thead>\n",
       "  <tbody>\n",
       "    <tr>\n",
       "      <th>0</th>\n",
       "      <td>Nordic states are boosting already generous pa...</td>\n",
       "    </tr>\n",
       "    <tr>\n",
       "      <th>1</th>\n",
       "      <td>Coronavirus ile ilgili Londra'da yaşayan ,eski...</td>\n",
       "    </tr>\n",
       "    <tr>\n",
       "      <th>2</th>\n",
       "      <td>Government memo asks care workers to downgrade...</td>\n",
       "    </tr>\n",
       "    <tr>\n",
       "      <th>3</th>\n",
       "      <td>Please join @BBBTriCounties tomorrow at noon t...</td>\n",
       "    </tr>\n",
       "    <tr>\n",
       "      <th>4</th>\n",
       "      <td>.@timkaine runs down the statistics that show ...</td>\n",
       "    </tr>\n",
       "    <tr>\n",
       "      <th>...</th>\n",
       "      <td>...</td>\n",
       "    </tr>\n",
       "    <tr>\n",
       "      <th>29489</th>\n",
       "      <td>We can't muck this up. We are a laughing stock...</td>\n",
       "    </tr>\n",
       "    <tr>\n",
       "      <th>29490</th>\n",
       "      <td>Director general of directorate general of hea...</td>\n",
       "    </tr>\n",
       "    <tr>\n",
       "      <th>29491</th>\n",
       "      <td>Evolución #COVID19 en área Vigo Fuente: Inform...</td>\n",
       "    </tr>\n",
       "    <tr>\n",
       "      <th>29492</th>\n",
       "      <td>How to rebuild and reimagine jobs amid the cor...</td>\n",
       "    </tr>\n",
       "    <tr>\n",
       "      <th>29493</th>\n",
       "      <td>How has the lockdown changed in England? @KayB...</td>\n",
       "    </tr>\n",
       "  </tbody>\n",
       "</table>\n",
       "<p>29494 rows × 1 columns</p>\n",
       "</div>"
      ],
      "text/plain": [
       "                                              Tweet_text\n",
       "0      Nordic states are boosting already generous pa...\n",
       "1      Coronavirus ile ilgili Londra'da yaşayan ,eski...\n",
       "2      Government memo asks care workers to downgrade...\n",
       "3      Please join @BBBTriCounties tomorrow at noon t...\n",
       "4      .@timkaine runs down the statistics that show ...\n",
       "...                                                  ...\n",
       "29489  We can't muck this up. We are a laughing stock...\n",
       "29490  Director general of directorate general of hea...\n",
       "29491  Evolución #COVID19 en área Vigo Fuente: Inform...\n",
       "29492  How to rebuild and reimagine jobs amid the cor...\n",
       "29493  How has the lockdown changed in England? @KayB...\n",
       "\n",
       "[29494 rows x 1 columns]"
      ]
     },
     "execution_count": 15,
     "metadata": {},
     "output_type": "execute_result"
    }
   ],
   "source": [
    "tweets_df"
   ]
  },
  {
   "cell_type": "code",
   "execution_count": null,
   "metadata": {},
   "outputs": [],
   "source": [
    "text_query = 'SARSCoV2'\n",
    "since_date = '2019-08-01'\n",
    "count=10000\n",
    "# Creation of query object\n",
    "tweetCriteria = got.manager.TweetCriteria().setQuerySearch(text_query).setSince(since_date).setLang('en').setMaxTweets(count)\n",
    "# Creation of list that contains all tweets\n",
    "tw3 = got.manager.TweetManager.getTweets(tweetCriteria)\n",
    "# Creating list of chosen tweet data\n",
    "text_tw3 = [[tweet.text] for tweet in tw3]"
   ]
  },
  {
   "cell_type": "code",
   "execution_count": null,
   "metadata": {},
   "outputs": [],
   "source": []
  }
 ],
 "metadata": {
  "kernelspec": {
   "display_name": "Python 3",
   "language": "python",
   "name": "python3"
  },
  "language_info": {
   "codemirror_mode": {
    "name": "ipython",
    "version": 3
   },
   "file_extension": ".py",
   "mimetype": "text/x-python",
   "name": "python",
   "nbconvert_exporter": "python",
   "pygments_lexer": "ipython3",
   "version": "3.7.6"
  }
 },
 "nbformat": 4,
 "nbformat_minor": 4
}
