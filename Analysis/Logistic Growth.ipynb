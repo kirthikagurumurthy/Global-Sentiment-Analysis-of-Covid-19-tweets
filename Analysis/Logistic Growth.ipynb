{
 "cells": [
  {
   "cell_type": "code",
   "execution_count": 9,
   "metadata": {},
   "outputs": [],
   "source": [
    "import numpy as np \n",
    "import pandas as pd \n",
    "import matplotlib.pyplot as plt\n",
    "import seaborn as sns\n",
    "from sklearn import preprocessing\n",
    "import time\n",
    "from datetime import datetime\n",
    "from scipy import integrate, optimize\n",
    "import warnings\n",
    "warnings.filterwarnings('ignore')\n",
    "\n",
    "from sklearn.model_selection import RandomizedSearchCV, GridSearchCV\n",
    "from sklearn import linear_model\n",
    "from sklearn.metrics import mean_squared_error\n",
    "\n",
    "from sklearn import preprocessing\n",
    "le = preprocessing.LabelEncoder()"
   ]
  },
  {
   "cell_type": "code",
   "execution_count": 6,
   "metadata": {},
   "outputs": [],
   "source": [
    "all_data = pd.read_csv(\"C:\\\\Users\\\\KIRHIKAGURUMURTHY\\\\Desktop\\\\PES stuff\\\\Projects\\\\Sentiment\\\\sentiment_analysis\\\\World_map\\\\full_grouped.csv\")\n"
   ]
  },
  {
   "cell_type": "code",
   "execution_count": 25,
   "metadata": {},
   "outputs": [
    {
     "data": {
      "text/html": [
       "<div>\n",
       "<style scoped>\n",
       "    .dataframe tbody tr th:only-of-type {\n",
       "        vertical-align: middle;\n",
       "    }\n",
       "\n",
       "    .dataframe tbody tr th {\n",
       "        vertical-align: top;\n",
       "    }\n",
       "\n",
       "    .dataframe thead th {\n",
       "        text-align: right;\n",
       "    }\n",
       "</style>\n",
       "<table border=\"1\" class=\"dataframe\">\n",
       "  <thead>\n",
       "    <tr style=\"text-align: right;\">\n",
       "      <th></th>\n",
       "      <th>Date</th>\n",
       "      <th>Country/Region</th>\n",
       "      <th>Confirmed</th>\n",
       "      <th>Deaths</th>\n",
       "      <th>Recovered</th>\n",
       "      <th>Active</th>\n",
       "      <th>New cases</th>\n",
       "      <th>New deaths</th>\n",
       "      <th>New recovered</th>\n",
       "      <th>WHO Region</th>\n",
       "      <th>Country_Region</th>\n",
       "      <th>Day_num</th>\n",
       "    </tr>\n",
       "  </thead>\n",
       "  <tbody>\n",
       "    <tr>\n",
       "      <th>0</th>\n",
       "      <td>2020-01-22</td>\n",
       "      <td>Afghanistan</td>\n",
       "      <td>0</td>\n",
       "      <td>0</td>\n",
       "      <td>0</td>\n",
       "      <td>0</td>\n",
       "      <td>0</td>\n",
       "      <td>0</td>\n",
       "      <td>0</td>\n",
       "      <td>Eastern Mediterranean</td>\n",
       "      <td>0</td>\n",
       "      <td>0</td>\n",
       "    </tr>\n",
       "    <tr>\n",
       "      <th>1</th>\n",
       "      <td>2020-01-22</td>\n",
       "      <td>Albania</td>\n",
       "      <td>0</td>\n",
       "      <td>0</td>\n",
       "      <td>0</td>\n",
       "      <td>0</td>\n",
       "      <td>0</td>\n",
       "      <td>0</td>\n",
       "      <td>0</td>\n",
       "      <td>Europe</td>\n",
       "      <td>1</td>\n",
       "      <td>0</td>\n",
       "    </tr>\n",
       "    <tr>\n",
       "      <th>2</th>\n",
       "      <td>2020-01-22</td>\n",
       "      <td>Algeria</td>\n",
       "      <td>0</td>\n",
       "      <td>0</td>\n",
       "      <td>0</td>\n",
       "      <td>0</td>\n",
       "      <td>0</td>\n",
       "      <td>0</td>\n",
       "      <td>0</td>\n",
       "      <td>Africa</td>\n",
       "      <td>2</td>\n",
       "      <td>0</td>\n",
       "    </tr>\n",
       "    <tr>\n",
       "      <th>3</th>\n",
       "      <td>2020-01-22</td>\n",
       "      <td>Andorra</td>\n",
       "      <td>0</td>\n",
       "      <td>0</td>\n",
       "      <td>0</td>\n",
       "      <td>0</td>\n",
       "      <td>0</td>\n",
       "      <td>0</td>\n",
       "      <td>0</td>\n",
       "      <td>Europe</td>\n",
       "      <td>3</td>\n",
       "      <td>0</td>\n",
       "    </tr>\n",
       "    <tr>\n",
       "      <th>4</th>\n",
       "      <td>2020-01-22</td>\n",
       "      <td>Angola</td>\n",
       "      <td>0</td>\n",
       "      <td>0</td>\n",
       "      <td>0</td>\n",
       "      <td>0</td>\n",
       "      <td>0</td>\n",
       "      <td>0</td>\n",
       "      <td>0</td>\n",
       "      <td>Africa</td>\n",
       "      <td>4</td>\n",
       "      <td>0</td>\n",
       "    </tr>\n",
       "    <tr>\n",
       "      <th>...</th>\n",
       "      <td>...</td>\n",
       "      <td>...</td>\n",
       "      <td>...</td>\n",
       "      <td>...</td>\n",
       "      <td>...</td>\n",
       "      <td>...</td>\n",
       "      <td>...</td>\n",
       "      <td>...</td>\n",
       "      <td>...</td>\n",
       "      <td>...</td>\n",
       "      <td>...</td>\n",
       "      <td>...</td>\n",
       "    </tr>\n",
       "    <tr>\n",
       "      <th>28606</th>\n",
       "      <td>2020-06-22</td>\n",
       "      <td>West Bank and Gaza</td>\n",
       "      <td>1001</td>\n",
       "      <td>3</td>\n",
       "      <td>442</td>\n",
       "      <td>556</td>\n",
       "      <td>168</td>\n",
       "      <td>0</td>\n",
       "      <td>3</td>\n",
       "      <td>Eastern Mediterranean</td>\n",
       "      <td>182</td>\n",
       "      <td>152</td>\n",
       "    </tr>\n",
       "    <tr>\n",
       "      <th>28607</th>\n",
       "      <td>2020-06-22</td>\n",
       "      <td>Western Sahara</td>\n",
       "      <td>10</td>\n",
       "      <td>1</td>\n",
       "      <td>8</td>\n",
       "      <td>1</td>\n",
       "      <td>1</td>\n",
       "      <td>0</td>\n",
       "      <td>0</td>\n",
       "      <td>Africa</td>\n",
       "      <td>183</td>\n",
       "      <td>152</td>\n",
       "    </tr>\n",
       "    <tr>\n",
       "      <th>28608</th>\n",
       "      <td>2020-06-22</td>\n",
       "      <td>Yemen</td>\n",
       "      <td>967</td>\n",
       "      <td>257</td>\n",
       "      <td>350</td>\n",
       "      <td>360</td>\n",
       "      <td>26</td>\n",
       "      <td>1</td>\n",
       "      <td>3</td>\n",
       "      <td>Eastern Mediterranean</td>\n",
       "      <td>184</td>\n",
       "      <td>152</td>\n",
       "    </tr>\n",
       "    <tr>\n",
       "      <th>28609</th>\n",
       "      <td>2020-06-22</td>\n",
       "      <td>Zambia</td>\n",
       "      <td>1430</td>\n",
       "      <td>11</td>\n",
       "      <td>1194</td>\n",
       "      <td>225</td>\n",
       "      <td>0</td>\n",
       "      <td>0</td>\n",
       "      <td>0</td>\n",
       "      <td>Africa</td>\n",
       "      <td>185</td>\n",
       "      <td>152</td>\n",
       "    </tr>\n",
       "    <tr>\n",
       "      <th>28610</th>\n",
       "      <td>2020-06-22</td>\n",
       "      <td>Zimbabwe</td>\n",
       "      <td>512</td>\n",
       "      <td>6</td>\n",
       "      <td>64</td>\n",
       "      <td>442</td>\n",
       "      <td>23</td>\n",
       "      <td>0</td>\n",
       "      <td>0</td>\n",
       "      <td>Africa</td>\n",
       "      <td>186</td>\n",
       "      <td>152</td>\n",
       "    </tr>\n",
       "  </tbody>\n",
       "</table>\n",
       "<p>28611 rows × 12 columns</p>\n",
       "</div>"
      ],
      "text/plain": [
       "             Date      Country/Region  Confirmed  Deaths  Recovered  Active  \\\n",
       "0      2020-01-22         Afghanistan          0       0          0       0   \n",
       "1      2020-01-22             Albania          0       0          0       0   \n",
       "2      2020-01-22             Algeria          0       0          0       0   \n",
       "3      2020-01-22             Andorra          0       0          0       0   \n",
       "4      2020-01-22              Angola          0       0          0       0   \n",
       "...           ...                 ...        ...     ...        ...     ...   \n",
       "28606  2020-06-22  West Bank and Gaza       1001       3        442     556   \n",
       "28607  2020-06-22      Western Sahara         10       1          8       1   \n",
       "28608  2020-06-22               Yemen        967     257        350     360   \n",
       "28609  2020-06-22              Zambia       1430      11       1194     225   \n",
       "28610  2020-06-22            Zimbabwe        512       6         64     442   \n",
       "\n",
       "       New cases  New deaths  New recovered             WHO Region  \\\n",
       "0              0           0              0  Eastern Mediterranean   \n",
       "1              0           0              0                 Europe   \n",
       "2              0           0              0                 Africa   \n",
       "3              0           0              0                 Europe   \n",
       "4              0           0              0                 Africa   \n",
       "...          ...         ...            ...                    ...   \n",
       "28606        168           0              3  Eastern Mediterranean   \n",
       "28607          1           0              0                 Africa   \n",
       "28608         26           1              3  Eastern Mediterranean   \n",
       "28609          0           0              0                 Africa   \n",
       "28610         23           0              0                 Africa   \n",
       "\n",
       "       Country_Region  Day_num  \n",
       "0                   0        0  \n",
       "1                   1        0  \n",
       "2                   2        0  \n",
       "3                   3        0  \n",
       "4                   4        0  \n",
       "...               ...      ...  \n",
       "28606             182      152  \n",
       "28607             183      152  \n",
       "28608             184      152  \n",
       "28609             185      152  \n",
       "28610             186      152  \n",
       "\n",
       "[28611 rows x 12 columns]"
      ]
     },
     "execution_count": 25,
     "metadata": {},
     "output_type": "execute_result"
    }
   ],
   "source": [
    "all_data.fillna(0)"
   ]
  },
  {
   "cell_type": "code",
   "execution_count": 33,
   "metadata": {},
   "outputs": [],
   "source": [
    "gb = all_data.groupby('Country/Region')    \n",
    "countries = [gb.get_group(x) for x in gb.groups]"
   ]
  },
  {
   "cell_type": "code",
   "execution_count": 82,
   "metadata": {},
   "outputs": [
    {
     "data": {
      "text/plain": [
       "187"
      ]
     },
     "execution_count": 82,
     "metadata": {},
     "output_type": "execute_result"
    }
   ],
   "source": [
    "len(countries)"
   ]
  },
  {
   "cell_type": "code",
   "execution_count": 71,
   "metadata": {},
   "outputs": [
    {
     "data": {
      "text/html": [
       "<div>\n",
       "<style scoped>\n",
       "    .dataframe tbody tr th:only-of-type {\n",
       "        vertical-align: middle;\n",
       "    }\n",
       "\n",
       "    .dataframe tbody tr th {\n",
       "        vertical-align: top;\n",
       "    }\n",
       "\n",
       "    .dataframe thead th {\n",
       "        text-align: right;\n",
       "    }\n",
       "</style>\n",
       "<table border=\"1\" class=\"dataframe\">\n",
       "  <thead>\n",
       "    <tr style=\"text-align: right;\">\n",
       "      <th></th>\n",
       "      <th>Country/Region</th>\n",
       "      <th>Confirmed</th>\n",
       "      <th>Deaths</th>\n",
       "      <th>Day_num</th>\n",
       "    </tr>\n",
       "  </thead>\n",
       "  <tbody>\n",
       "    <tr>\n",
       "      <th>0</th>\n",
       "      <td>Afghanistan</td>\n",
       "      <td>0</td>\n",
       "      <td>0</td>\n",
       "      <td>0</td>\n",
       "    </tr>\n",
       "    <tr>\n",
       "      <th>187</th>\n",
       "      <td>Afghanistan</td>\n",
       "      <td>0</td>\n",
       "      <td>0</td>\n",
       "      <td>1</td>\n",
       "    </tr>\n",
       "    <tr>\n",
       "      <th>374</th>\n",
       "      <td>Afghanistan</td>\n",
       "      <td>0</td>\n",
       "      <td>0</td>\n",
       "      <td>2</td>\n",
       "    </tr>\n",
       "    <tr>\n",
       "      <th>561</th>\n",
       "      <td>Afghanistan</td>\n",
       "      <td>0</td>\n",
       "      <td>0</td>\n",
       "      <td>3</td>\n",
       "    </tr>\n",
       "    <tr>\n",
       "      <th>748</th>\n",
       "      <td>Afghanistan</td>\n",
       "      <td>0</td>\n",
       "      <td>0</td>\n",
       "      <td>4</td>\n",
       "    </tr>\n",
       "    <tr>\n",
       "      <th>...</th>\n",
       "      <td>...</td>\n",
       "      <td>...</td>\n",
       "      <td>...</td>\n",
       "      <td>...</td>\n",
       "    </tr>\n",
       "    <tr>\n",
       "      <th>27676</th>\n",
       "      <td>Afghanistan</td>\n",
       "      <td>27532</td>\n",
       "      <td>546</td>\n",
       "      <td>148</td>\n",
       "    </tr>\n",
       "    <tr>\n",
       "      <th>27863</th>\n",
       "      <td>Afghanistan</td>\n",
       "      <td>27878</td>\n",
       "      <td>548</td>\n",
       "      <td>149</td>\n",
       "    </tr>\n",
       "    <tr>\n",
       "      <th>28050</th>\n",
       "      <td>Afghanistan</td>\n",
       "      <td>28424</td>\n",
       "      <td>569</td>\n",
       "      <td>150</td>\n",
       "    </tr>\n",
       "    <tr>\n",
       "      <th>28237</th>\n",
       "      <td>Afghanistan</td>\n",
       "      <td>28833</td>\n",
       "      <td>581</td>\n",
       "      <td>151</td>\n",
       "    </tr>\n",
       "    <tr>\n",
       "      <th>28424</th>\n",
       "      <td>Afghanistan</td>\n",
       "      <td>29157</td>\n",
       "      <td>598</td>\n",
       "      <td>152</td>\n",
       "    </tr>\n",
       "  </tbody>\n",
       "</table>\n",
       "<p>153 rows × 4 columns</p>\n",
       "</div>"
      ],
      "text/plain": [
       "      Country/Region  Confirmed  Deaths  Day_num\n",
       "0        Afghanistan          0       0        0\n",
       "187      Afghanistan          0       0        1\n",
       "374      Afghanistan          0       0        2\n",
       "561      Afghanistan          0       0        3\n",
       "748      Afghanistan          0       0        4\n",
       "...              ...        ...     ...      ...\n",
       "27676    Afghanistan      27532     546      148\n",
       "27863    Afghanistan      27878     548      149\n",
       "28050    Afghanistan      28424     569      150\n",
       "28237    Afghanistan      28833     581      151\n",
       "28424    Afghanistan      29157     598      152\n",
       "\n",
       "[153 rows x 4 columns]"
      ]
     },
     "execution_count": 71,
     "metadata": {},
     "output_type": "execute_result"
    }
   ],
   "source": [
    "data = all_data[['Country/Region','Confirmed','Deaths','Day_num']]\n",
    "gb = data.groupby('Country/Region')    \n",
    "countries = [gb.get_group(x) for x in gb.groups]\n",
    "countries[0]"
   ]
  },
  {
   "cell_type": "code",
   "execution_count": 56,
   "metadata": {},
   "outputs": [],
   "source": [
    "def logistic_function(t, a, b, c):\n",
    "    return c / (1. + a*np.exp(-b*t))"
   ]
  },
  {
   "cell_type": "code",
   "execution_count": 57,
   "metadata": {},
   "outputs": [
    {
     "data": {
      "text/plain": [
       "array([1.72077202, 0.37128362, 1.00707773])"
      ]
     },
     "execution_count": 57,
     "metadata": {},
     "output_type": "execute_result"
    }
   ],
   "source": [
    "p0 = np.random.exponential(size=3)\n",
    "p0"
   ]
  },
  {
   "cell_type": "code",
   "execution_count": 58,
   "metadata": {},
   "outputs": [],
   "source": [
    "bounds = (0,[100000.,3.,1000000000.])"
   ]
  },
  {
   "cell_type": "code",
   "execution_count": 67,
   "metadata": {},
   "outputs": [
    {
     "data": {
      "text/plain": [
       "(37345.061397911624, 0.0707108297260438, 43323.31659784977)"
      ]
     },
     "execution_count": 67,
     "metadata": {},
     "output_type": "execute_result"
    }
   ],
   "source": [
    "import scipy.optimize as optim\n",
    "x = np.array(countries[20]['Day_num']) + 1\n",
    "y = np.array(countries[20]['Confirmed'])\n",
    "\n",
    "(a,b,c),cov = optim.curve_fit(logistic_function,x,y,bounds=bounds,p0=p0)\n",
    "\n",
    "a,b,c"
   ]
  },
  {
   "cell_type": "code",
   "execution_count": 68,
   "metadata": {},
   "outputs": [],
   "source": [
    "def my_logistic(t):\n",
    "    return c/(1 + a*np.exp(-b*t))"
   ]
  },
  {
   "cell_type": "code",
   "execution_count": 92,
   "metadata": {},
   "outputs": [],
   "source": [
    "def plot_logistic_country(df):\n",
    "    x = np.array(df['Day_num']) + 1\n",
    "    y = np.array(df['Confirmed'])\n",
    "    (a,b,c),cov = optim.curve_fit(logistic_function,x,y,bounds=bounds,p0=p0)\n",
    "    plt.scatter(x,y)\n",
    "    plt.plot(x,my_logistic(x))\n",
    "    country_name = df['Country/Region']\n",
    "    plt.title('Logistic Model vs Real Observations of Covid19 cases for'+str(country_name))\n",
    "    plt.legend(['Logistic Model','Real data'])\n",
    "    plt.xlabel('Time')\n",
    "    plt.ylabel('Confirmed')\n",
    "    return a,b,c"
   ]
  },
  {
   "cell_type": "code",
   "execution_count": 93,
   "metadata": {},
   "outputs": [
    {
     "data": {
      "text/plain": [
       "(43421.21834294146, 0.07873630891139441, 36847.36415896192)"
      ]
     },
     "execution_count": 93,
     "metadata": {},
     "output_type": "execute_result"
    },
    {
     "data": {
      "image/png": "[encoded data removed]",
      "text/plain": [
       "<Figure size 432x288 with 1 Axes>"
      ]
     },
     "metadata": {
      "needs_background": "light"
     },
     "output_type": "display_data"
    }
   ],
   "source": [
    "plot_logistic_country(countries[0]) # c = max limit for number of cases at time t = ln(a)/b and no of cases at t => y=c/2"
   ]
  },
  {
   "cell_type": "code",
   "execution_count": null,
   "metadata": {},
   "outputs": [],
   "source": []
  }
 ],
 "metadata": {
  "kernelspec": {
   "display_name": "Python 3",
   "language": "python",
   "name": "python3"
  },
  "language_info": {
   "codemirror_mode": {
    "name": "ipython",
    "version": 3
   },
   "file_extension": ".py",
   "mimetype": "text/x-python",
   "name": "python",
   "nbconvert_exporter": "python",
   "pygments_lexer": "ipython3",
   "version": "3.7.6"
  }
 },
 "nbformat": 4,
 "nbformat_minor": 4
}
