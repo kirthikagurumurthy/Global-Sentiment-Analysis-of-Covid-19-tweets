{
 "cells": [
  {
   "cell_type": "code",
   "execution_count": 8,
   "metadata": {},
   "outputs": [],
   "source": [
    "import os\n",
    "import pandas as pd"
   ]
  },
  {
   "cell_type": "code",
   "execution_count": 20,
   "metadata": {},
   "outputs": [
    {
     "name": "stdout",
     "output_type": "stream",
     "text": [
      "Negative\n",
      "Neutral\n",
      "Positive\n"
     ]
    }
   ],
   "source": [
    "directory = r'../Datasets/Classified_Country_tweets'\n",
    "\n",
    "for filename in os.listdir(directory):\n",
    "    all_tweets = []\n",
    "    all_dates = []\n",
    "    all_countries = []\n",
    "    subdirect = directory+\"/\"+filename\n",
    "    print(filename)\n",
    "    for file in os.listdir(subdirect):\n",
    "        \n",
    "        df = pd.read_csv(subdirect+\"/\"+file)\n",
    "        tweets = list(df['Tweets'])\n",
    "        dates = list(df['Date'])\n",
    "        for i in range(len(tweets)):\n",
    "            all_tweets.append(tweets[i])\n",
    "            all_dates.append(dates[i])\n",
    "            all_countries.append(file[0:-4])\n",
    "    \n",
    "    final_df = pd.DataFrame({\"Tweets\":all_tweets,\"Date\":all_dates,\"Country\":all_countries})\n",
    "    final_df.to_csv(\"../Datasets/Classified_Country_tweets/\"+filename+\".csv\")\n",
    "    "
   ]
  },
  {
   "cell_type": "code",
   "execution_count": 15,
   "metadata": {},
   "outputs": [
    {
     "data": {
      "text/plain": [
       "113571"
      ]
     },
     "execution_count": 15,
     "metadata": {},
     "output_type": "execute_result"
    }
   ],
   "source": [
    "len(all_tweets)"
   ]
  },
  {
   "cell_type": "code",
   "execution_count": 17,
   "metadata": {},
   "outputs": [
    {
     "data": {
      "text/plain": [
       "113571"
      ]
     },
     "execution_count": 17,
     "metadata": {},
     "output_type": "execute_result"
    }
   ],
   "source": [
    "len(all_dates)"
   ]
  },
  {
   "cell_type": "code",
   "execution_count": null,
   "metadata": {},
   "outputs": [],
   "source": []
  },
  {
   "cell_type": "code",
   "execution_count": null,
   "metadata": {},
   "outputs": [],
   "source": []
  }
 ],
 "metadata": {
  "kernelspec": {
   "display_name": "Python 3",
   "language": "python",
   "name": "python3"
  },
  "language_info": {
   "codemirror_mode": {
    "name": "ipython",
    "version": 3
   },
   "file_extension": ".py",
   "mimetype": "text/x-python",
   "name": "python",
   "nbconvert_exporter": "python",
   "pygments_lexer": "ipython3",
   "version": "3.6.9"
  }
 },
 "nbformat": 4,
 "nbformat_minor": 4
}
